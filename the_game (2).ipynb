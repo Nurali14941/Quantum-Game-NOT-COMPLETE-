{
  "cells": [
    {
      "cell_type": "markdown",
      "source": [
        "### Run all this before playing\n"
      ],
      "metadata": {
        "id": "ZWUeHIFui1al"
      },
      "id": "ZWUeHIFui1al"
    },
    {
      "cell_type": "code",
      "execution_count": null,
      "id": "8fd2f895",
      "metadata": {
        "id": "8fd2f895"
      },
      "outputs": [],
      "source": [
        "%pip install qiskit\n",
        "%pip install qiskit-aer\n",
        "%pip install pylatexenc\n",
        "from qiskit import QuantumCircuit, QuantumRegister, ClassicalRegister\n",
        "from qiskit_aer import Aer\n",
        "from qiskit.quantum_info import Statevector\n",
        "import numpy as np\n",
        "from qiskit.visualization import plot_histogram, plot_bloch_multivector\n",
        "from math import factorial\n",
        "import random\n",
        "import math\n",
        "import time\n",
        "from qiskit import transpile"
      ]
    },
    {
      "cell_type": "code",
      "source": [
        "def game(pair, players):\n",
        "\n",
        "\n",
        "\n",
        "\n",
        "    while True:\n",
        "        #####check for zeros\n",
        "\n",
        "        count = 0\n",
        "        for i in pair:\n",
        "            if pair[i][1] == 0:\n",
        "                count += 1\n",
        "            else:\n",
        "                ans = i\n",
        "        if count == 3:\n",
        "            return f'{ans} IS A WINNER'\n",
        "\n",
        "        ###############process #################\n",
        "\n",
        "\n",
        "        ###############setting up the circuit##########\n",
        "        labels = []\n",
        "        for i in range(players):\n",
        "            for j in range(pair[f'Player {i+1}'][1]):\n",
        "                labels.append(f'Player_{i+1} -> Dice_{j+1}')\n",
        "\n",
        "\n",
        "\n",
        "        dicts = {i:QuantumRegister(2, i) for i in labels}\n",
        "\n",
        "        qc_labels = list(dicts.values())\n",
        "\n",
        "\n",
        "\n",
        "\n",
        "        qout = QuantumRegister(1, 'output')\n",
        "        c = ClassicalRegister(2*dice_count*players)\n",
        "\n",
        "        qc = QuantumCircuit(qout, *qc_labels, c)\n",
        "\n",
        "        stv = Statevector.from_label('0'*2*dice_count*players)\n",
        "\n",
        "        for i in qc_labels:\n",
        "            for j in range(len(i)):\n",
        "                qc.h(i[j])\n",
        "\n",
        "        record = [{f'Player {(2*i) + 1}': i_to_b(pair[f'Player {(2*i) + 1}'][0]), f'Player {(2*i) + 2}': i_to_b(pair[f'Player {(2*i) + 2}'][0])} for i in range(players // 2)]\n",
        "\n",
        "        ######################collusion##################\n",
        "        for i in range(players//2):\n",
        "            if pair[f'Player {(2*i) + 1}'][1] != 0 and pair[f'Player {(2*i) + 2}'][1] != 0:\n",
        "                #######control############\n",
        "                lst = [j for j in labels if f'Player_{(2*i) + 1}' in j]\n",
        "                choice = random.choice(lst)\n",
        "                player_1_1 = dicts[choice][0]\n",
        "                player_1_2 = dicts[choice][1]\n",
        "                ########################\n",
        "                ###########target###########\n",
        "                lst = [j for j in labels if f'Player_{(2*i) + 2}' in j]\n",
        "                choice = random.choice(lst)\n",
        "                player_2_1 = dicts[choice][0]\n",
        "                player_2_2 = dicts[choice][1]\n",
        "\n",
        "\n",
        "                ###################\n",
        "                #step one, apply nots if necessary on control\n",
        "                ent = list(record[i][f'Player {(2*i) + 1}'])\n",
        "                entd = list(record[i][f'Player {(2*i) + 2}'])\n",
        "                #dice 0 --> [1]\n",
        "                if ent[1] == '0':\n",
        "                    qc.x(player_1_1)\n",
        "                if ent[0] == '0':\n",
        "                    qc.x(player_1_2)\n",
        "\n",
        "\n",
        "                #step two apply the controlled hadards\n",
        "                qc.cu(math.pi/2, 0, math.pi, 0, player_1_1, player_2_1)\n",
        "                qc.cu(math.pi/2, 0, math.pi, 0, player_1_2, player_2_2)\n",
        "\n",
        "                #step three apply the nots\n",
        "                if ent[1] == '0':\n",
        "                    qc.x(player_1_1)\n",
        "                if ent[0] == '0':\n",
        "                    qc.x(player_1_2)\n",
        "\n",
        "\n",
        "                if entd[1] == '1':\n",
        "                    qc.x(player_2_1)\n",
        "                if entd[0] == '1':\n",
        "                    qc.x(player_2_2)\n",
        "        qc.barrier()\n",
        "        for i in qc_labels:\n",
        "            for j in range(len(i)):\n",
        "                qc.measure(i[j], c[count])\n",
        "                count += 1\n",
        "\n",
        "\n",
        "        qc.draw(output = 'mpl')\n",
        "        backend = Aer.get_backend('aer_simulator')\n",
        "\n",
        "\n",
        "\n",
        "        counts= backend.run(qc, shots=1).result().get_counts(qc)\n",
        "\n",
        "\n",
        "\n",
        "\n",
        "\n",
        "\n",
        "\n",
        "\n",
        "\n",
        "\n",
        "\n",
        "\n",
        "        #val = format(max(lst), 'b').zfill(sum([pair[j][1] for j in pair]))\n",
        "        bit_string = [i for i in counts.keys()][0]\n",
        "\n",
        "        bite_string = bit_string[::-1]\n",
        "\n",
        "        bitt_string = [bite_string[i:i+2][::-1] for i in range(0, len(bite_string), 2)]\n",
        "\n",
        "        vals = {}\n",
        "        count = 0\n",
        "        for i in range(len(pair)):\n",
        "            vals[f'Player {i+1}'] = 'confirm'\n",
        "            for j in range(1, pair[f'Player {i+1}'][1]+1):\n",
        "                vals[(f'Player {i+1}', f'Dice {j}')] = int(bitt_string[count],2)+1\n",
        "                count += 1\n",
        "\n",
        "\n",
        "\n",
        "        for i in vals:\n",
        "            if vals[i] == 'confirm':\n",
        "                input(f'Press Enter to reveal {i}\\'s dice')\n",
        "                continue\n",
        "            print(f'{i} ---> {vals[i]}')\n",
        "\n",
        "        lost = 0\n",
        "        while lost != 1 and lost != 2 and lost != 3 and lost != 4:\n",
        "            lost = int(input('please enter which player lost (type 1/2/3/...)  \\n'))\n",
        "\n",
        "        pair[f'Player {lost}'][1] -= 1\n",
        "\n",
        "\n",
        "\n",
        "\n",
        "\n",
        "\n",
        "    #######someone loses a dice\n"
      ],
      "metadata": {
        "id": "9kIzh3tIizwb"
      },
      "id": "9kIzh3tIizwb",
      "execution_count": null,
      "outputs": []
    },
    {
      "cell_type": "markdown",
      "source": [
        "### Setup"
      ],
      "metadata": {
        "id": "s95DIG7jkD2B"
      },
      "id": "s95DIG7jkD2B"
    },
    {
      "cell_type": "markdown",
      "source": [
        "Run the code block below to declare the number of dice per player:"
      ],
      "metadata": {
        "id": "mATXuBwujcpX"
      },
      "id": "mATXuBwujcpX"
    },
    {
      "cell_type": "code",
      "execution_count": null,
      "id": "2de6c42f",
      "metadata": {
        "id": "2de6c42f"
      },
      "outputs": [],
      "source": [
        "initial_players = 4\n",
        "dice_count = int(input('how many 4-sided dice per player\\n (no more than 3)\\n'))\n",
        "def i_to_b(x):\n",
        "    a = format(x-1, 'b')\n",
        "    if len(a) < 2:\n",
        "        for _ in range(2-len(a)):\n",
        "            a = '0'+a\n",
        "    return a"
      ]
    },
    {
      "cell_type": "markdown",
      "source": [
        "Run the code block below to collude:"
      ],
      "metadata": {
        "id": "vkdul-7hjpL9"
      },
      "id": "vkdul-7hjpL9"
    },
    {
      "cell_type": "code",
      "execution_count": null,
      "id": "2f783950",
      "metadata": {
        "id": "2f783950"
      },
      "outputs": [],
      "source": [
        "pair = {}\n",
        "\n",
        "\n",
        "for i in range(initial_players//2):\n",
        "    entangler = ''\n",
        "    entangled = ''\n",
        "    while entangler != '1' and entangler != '2' and entangler != '3' and entangler != '4' and entangler != 'N/A':\n",
        "        entangler = input(f'what value do you wish to act as a control value (Player {2*(i+1) - 1} --> {2*(i+1)}) ?\\n please type values 1 to 4 or N/A\\n')\n",
        "    if entangler != 'N/A':\n",
        "        while entangled != '1' and entangled != '2' and entangled != '3' and entangled != '4' and entangled != 'N/A':\n",
        "            entangled = input(f'what value do you wish to act as a target value (Player {2*(i+1)}), controlled by the control value\\n')\n",
        "    pair[f'Player {2*(i+1) - 1}'] = [int(entangler)]\n",
        "    pair[f'Player {2*(i+1)}'] = [int(entangled)]\n",
        "\n",
        "for i in pair:\n",
        "    pair[i].append(dice_count)"
      ]
    },
    {
      "cell_type": "markdown",
      "source": [
        "### PLAY!"
      ],
      "metadata": {
        "id": "NPOuZ-4qkJWk"
      },
      "id": "NPOuZ-4qkJWk"
    },
    {
      "cell_type": "markdown",
      "source": [
        "The program will give each player's dice rolls separately which are to be delivered by a neutral third party to each player."
      ],
      "metadata": {
        "id": "ZoJIziGNkucC"
      },
      "id": "ZoJIziGNkucC"
    },
    {
      "cell_type": "markdown",
      "source": [
        "After hearing their rolls, the players must bid. You bid by declaring a specific amount of a specific dice roll, like four 2s. You can raise another person's bid by increasing the number of dice in the previous bid, like raising three 2s to four 2s, or by increasing the specific dice roll. Note that when increasing the specific dice roll, you can decrease the number of dice claimed. For example, you can raise five 3s to three 4s. You can challenge a bid and once a challenge is made, no more bids are allowed. If there are less than the specific amount(of the specific dice value) claimed in the bid, the last bidder loses and if there are at least that many, the challenger loses. For example if the last bid was four 5s and there actually was three 5s, the last bidder loses but if there were four or more 5s, the challenger loses. Report to the program who lost the bidding session"
      ],
      "metadata": {
        "id": "iJQgVHc1lIvz"
      },
      "id": "iJQgVHc1lIvz"
    },
    {
      "cell_type": "markdown",
      "source": [
        "If you lose, you will lose a die. The game will go until there is only 1 player with dice remaining who is the winner."
      ],
      "metadata": {
        "id": "hJAYkLBKm5C1"
      },
      "id": "hJAYkLBKm5C1"
    },
    {
      "cell_type": "code",
      "execution_count": null,
      "id": "ddef1c09",
      "metadata": {
        "id": "ddef1c09"
      },
      "outputs": [],
      "source": [
        "game(pair, initial_players)"
      ]
    }
  ],
  "metadata": {
    "kernelspec": {
      "display_name": "Python 3 (ipykernel)",
      "language": "python",
      "name": "python3"
    },
    "language_info": {
      "codemirror_mode": {
        "name": "ipython",
        "version": 3
      },
      "file_extension": ".py",
      "mimetype": "text/x-python",
      "name": "python",
      "nbconvert_exporter": "python",
      "pygments_lexer": "ipython3",
      "version": "3.11.4"
    },
    "colab": {
      "provenance": []
    }
  },
  "nbformat": 4,
  "nbformat_minor": 5
}